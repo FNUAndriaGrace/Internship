{
 "cells": [
  {
   "cell_type": "markdown",
   "id": "ff118235",
   "metadata": {},
   "source": [
    "#  CCSS Alignment NLP/ML Model"
   ]
  },
  {
   "cell_type": "markdown",
   "id": "d4fbc93c",
   "metadata": {},
   "source": [
    "## - Andria Grace"
   ]
  },
  {
   "cell_type": "markdown",
   "id": "19641c14",
   "metadata": {},
   "source": [
    "# Introduction"
   ]
  },
  {
   "cell_type": "markdown",
   "id": "a0fe2e32",
   "metadata": {},
   "source": [
    "In this project, we aim to build a recommendation system for Common Core State Standards (CCSS) using text similarity measures. We leverage Natural Language Processing (NLP) techniques to preprocess and analyze descriptions of educational standards. By employing the Term Frequency-Inverse Document Frequency (TF-IDF) vectorization method and Nearest Neighbors algorithm, our goal is to find and recommend the most relevant CCSS standards based on user input."
   ]
  },
  {
   "cell_type": "markdown",
   "id": "7820ccb9",
   "metadata": {},
   "source": [
    "# Data Loading"
   ]
  },
  {
   "cell_type": "code",
   "execution_count": 51,
   "id": "75e3352f",
   "metadata": {},
   "outputs": [
    {
     "name": "stdout",
     "output_type": "stream",
     "text": [
      "Step 1: Load Dataset\n"
     ]
    },
    {
     "data": {
      "text/html": [
       "<div>\n",
       "<style scoped>\n",
       "    .dataframe tbody tr th:only-of-type {\n",
       "        vertical-align: middle;\n",
       "    }\n",
       "\n",
       "    .dataframe tbody tr th {\n",
       "        vertical-align: top;\n",
       "    }\n",
       "\n",
       "    .dataframe thead th {\n",
       "        text-align: right;\n",
       "    }\n",
       "</style>\n",
       "<table border=\"1\" class=\"dataframe\">\n",
       "  <thead>\n",
       "    <tr style=\"text-align: right;\">\n",
       "      <th></th>\n",
       "      <th>id</th>\n",
       "      <th>content_type</th>\n",
       "      <th>category_id</th>\n",
       "      <th>category_name</th>\n",
       "      <th>grade_id</th>\n",
       "      <th>grade_name</th>\n",
       "      <th>item</th>\n",
       "      <th>description</th>\n",
       "    </tr>\n",
       "  </thead>\n",
       "  <tbody>\n",
       "    <tr>\n",
       "      <th>0</th>\n",
       "      <td>CCSS.ELA-LITERACY.L.K.1</td>\n",
       "      <td>ELA-LITERACY</td>\n",
       "      <td>L</td>\n",
       "      <td>Language</td>\n",
       "      <td>K</td>\n",
       "      <td>Kindergarten</td>\n",
       "      <td>1</td>\n",
       "      <td>Demonstrate command of the conventions of stan...</td>\n",
       "    </tr>\n",
       "    <tr>\n",
       "      <th>1</th>\n",
       "      <td>CCSS.ELA-LITERACY.L.K.1.a</td>\n",
       "      <td>ELA-LITERACY</td>\n",
       "      <td>L</td>\n",
       "      <td>Language</td>\n",
       "      <td>K</td>\n",
       "      <td>Kindergarten</td>\n",
       "      <td>1a</td>\n",
       "      <td>Print many upper- and lowercase letters.</td>\n",
       "    </tr>\n",
       "    <tr>\n",
       "      <th>2</th>\n",
       "      <td>CCSS.ELA-LITERACY.L.K.1.b</td>\n",
       "      <td>ELA-LITERACY</td>\n",
       "      <td>L</td>\n",
       "      <td>Language</td>\n",
       "      <td>K</td>\n",
       "      <td>Kindergarten</td>\n",
       "      <td>1b</td>\n",
       "      <td>Use frequently occurring nouns and verbs.</td>\n",
       "    </tr>\n",
       "    <tr>\n",
       "      <th>3</th>\n",
       "      <td>CCSS.ELA-LITERACY.L.K.1.c</td>\n",
       "      <td>ELA-LITERACY</td>\n",
       "      <td>L</td>\n",
       "      <td>Language</td>\n",
       "      <td>K</td>\n",
       "      <td>Kindergarten</td>\n",
       "      <td>1c</td>\n",
       "      <td>Form regular plural nouns orally by adding /s/...</td>\n",
       "    </tr>\n",
       "    <tr>\n",
       "      <th>4</th>\n",
       "      <td>CCSS.ELA-LITERACY.L.K.1.d</td>\n",
       "      <td>ELA-LITERACY</td>\n",
       "      <td>L</td>\n",
       "      <td>Language</td>\n",
       "      <td>K</td>\n",
       "      <td>Kindergarten</td>\n",
       "      <td>1d</td>\n",
       "      <td>Understand and use question words (interrogati...</td>\n",
       "    </tr>\n",
       "  </tbody>\n",
       "</table>\n",
       "</div>"
      ],
      "text/plain": [
       "                          id  content_type category_id category_name grade_id  \\\n",
       "0    CCSS.ELA-LITERACY.L.K.1  ELA-LITERACY           L      Language        K   \n",
       "1  CCSS.ELA-LITERACY.L.K.1.a  ELA-LITERACY           L      Language        K   \n",
       "2  CCSS.ELA-LITERACY.L.K.1.b  ELA-LITERACY           L      Language        K   \n",
       "3  CCSS.ELA-LITERACY.L.K.1.c  ELA-LITERACY           L      Language        K   \n",
       "4  CCSS.ELA-LITERACY.L.K.1.d  ELA-LITERACY           L      Language        K   \n",
       "\n",
       "     grade_name item                                        description  \n",
       "0  Kindergarten    1  Demonstrate command of the conventions of stan...  \n",
       "1  Kindergarten   1a           Print many upper- and lowercase letters.  \n",
       "2  Kindergarten   1b          Use frequently occurring nouns and verbs.  \n",
       "3  Kindergarten   1c  Form regular plural nouns orally by adding /s/...  \n",
       "4  Kindergarten   1d  Understand and use question words (interrogati...  "
      ]
     },
     "execution_count": 51,
     "metadata": {},
     "output_type": "execute_result"
    }
   ],
   "source": [
    "df = pd.read_csv('C:/Users/acer/Downloads/ccss.csv')\n",
    "print(\"Step 1: Load Dataset\")\n",
    "df.head()\n"
   ]
  },
  {
   "cell_type": "code",
   "execution_count": 37,
   "id": "0e259006",
   "metadata": {},
   "outputs": [
    {
     "name": "stdout",
     "output_type": "stream",
     "text": [
      "Step 1: Load Dataset\n",
      "                          id  content_type category_id category_name grade_id  \\\n",
      "0    CCSS.ELA-LITERACY.L.K.1  ELA-LITERACY           L      Language        K   \n",
      "1  CCSS.ELA-LITERACY.L.K.1.a  ELA-LITERACY           L      Language        K   \n",
      "2  CCSS.ELA-LITERACY.L.K.1.b  ELA-LITERACY           L      Language        K   \n",
      "3  CCSS.ELA-LITERACY.L.K.1.c  ELA-LITERACY           L      Language        K   \n",
      "4  CCSS.ELA-LITERACY.L.K.1.d  ELA-LITERACY           L      Language        K   \n",
      "\n",
      "     grade_name item                                        description  \n",
      "0  Kindergarten    1  Demonstrate command of the conventions of stan...  \n",
      "1  Kindergarten   1a           Print many upper- and lowercase letters.  \n",
      "2  Kindergarten   1b          Use frequently occurring nouns and verbs.  \n",
      "3  Kindergarten   1c  Form regular plural nouns orally by adding /s/...  \n",
      "4  Kindergarten   1d  Understand and use question words (interrogati...  \n"
     ]
    }
   ],
   "source": [
    "import pandas as pd\n",
    "\n",
    "# Step 1: Load the Dataset\n",
    "def load_dataset(file_path):\n",
    "    df = pd.read_csv('C:/Users/acer/Downloads/ccss.csv')\n",
    "    print(\"Step 1: Load Dataset\")\n",
    "    print(df.head())  # Display the first few rows of the dataframe\n",
    "    return df[['id', 'description']]\n",
    "\n",
    "# Path to your CSV file\n",
    "file_path = '/mnt/data/ccss.csv'\n",
    "\n",
    "# Load dataset\n",
    "ccss_df = load_dataset(file_path)\n"
   ]
  },
  {
   "cell_type": "markdown",
   "id": "1e1074d1",
   "metadata": {},
   "source": [
    "# Data Preprocessing "
   ]
  },
  {
   "cell_type": "code",
   "execution_count": 38,
   "id": "63caa6ab",
   "metadata": {},
   "outputs": [
    {
     "name": "stdout",
     "output_type": "stream",
     "text": [
      "Step 2: Data Preprocessing\n",
      "TF-IDF Matrix Shape: (1554, 2886)\n",
      "Feature Names: ['01' '01212t' '02' '05' '05a' '0s' '10' '100' '1000' '100s']\n"
     ]
    }
   ],
   "source": [
    "from sklearn.feature_extraction.text import TfidfVectorizer\n",
    "\n",
    "# Step 2: Data Preprocessing\n",
    "def preprocess_data(df):\n",
    "    vectorizer = TfidfVectorizer(stop_words='english')\n",
    "    tfidf_matrix = vectorizer.fit_transform(df['description'])\n",
    "    print(\"Step 2: Data Preprocessing\")\n",
    "    print(\"TF-IDF Matrix Shape:\", tfidf_matrix.shape)\n",
    "    print(\"Feature Names:\", vectorizer.get_feature_names_out()[:10])  # Display the first 10 feature names\n",
    "    return vectorizer, tfidf_matrix\n",
    "\n",
    "# Preprocess data\n",
    "vectorizer, tfidf_matrix = preprocess_data(ccss_df)\n"
   ]
  },
  {
   "cell_type": "markdown",
   "id": "e992f3ef",
   "metadata": {},
   "source": [
    "# Model Building"
   ]
  },
  {
   "cell_type": "code",
   "execution_count": 39,
   "id": "208d718c",
   "metadata": {},
   "outputs": [
    {
     "name": "stdout",
     "output_type": "stream",
     "text": [
      "Step 3: Model Building\n",
      "Model built with n_neighbors=5\n"
     ]
    }
   ],
   "source": [
    "from sklearn.neighbors import NearestNeighbors\n",
    "\n",
    "# Step 3: Model Building\n",
    "def build_model(tfidf_matrix):\n",
    "    model = NearestNeighbors(n_neighbors=5, algorithm='auto')\n",
    "    model.fit(tfidf_matrix)\n",
    "    print(\"Step 3: Model Building\")\n",
    "    print(\"Model built with n_neighbors=5\")\n",
    "    return model\n",
    "\n",
    "# Build model\n",
    "model = build_model(tfidf_matrix)\n"
   ]
  },
  {
   "cell_type": "markdown",
   "id": "fa3797b5",
   "metadata": {},
   "source": [
    "# Prediction"
   ]
  },
  {
   "cell_type": "code",
   "execution_count": 50,
   "id": "74970403",
   "metadata": {},
   "outputs": [
    {
     "name": "stdout",
     "output_type": "stream",
     "text": [
      "Step 4: Making Predictions\n",
      "Input Text: Understand and use question words\n",
      "Closest CCSS ids: ['CCSS.ELA-LITERACY.L.K.1.d' 'CCSS.ELA-LITERACY.L.8.5.b'\n",
      " 'CCSS.ELA-LITERACY.L.5.5.c' 'CCSS.ELA-LITERACY.L.6.5.b'\n",
      " 'CCSS.ELA-LITERACY.L.7.5.b']\n"
     ]
    }
   ],
   "source": [
    "# Step 4: Making Predictions\n",
    "def find_closest_ccss(input_text, vectorizer, model, df, n=5):\n",
    "    input_tfidf = vectorizer.transform([input_text])\n",
    "    distances, indices = model.kneighbors(input_tfidf, n_neighbors=n)\n",
    "    closest_ids = df.iloc[indices[0]]['id'].values\n",
    "    print(\"Step 4: Making Predictions\")\n",
    "    print(\"Input Text:\", input_text)\n",
    "    print(\"Closest CCSS ids:\", closest_ids)\n",
    "    return closest_ids\n",
    "\n",
    "# Example input text\n",
    "input_text = \"Understand and use question words\"\n",
    "\n",
    "# Find the 5 closest CCSS ids\n",
    "closest_ccss_ids = find_closest_ccss(input_text, vectorizer, model, ccss_df, n=5)\n"
   ]
  },
  {
   "cell_type": "markdown",
   "id": "724279fe",
   "metadata": {},
   "source": [
    "# Conclusion"
   ]
  },
  {
   "cell_type": "markdown",
   "id": "9b24ac37",
   "metadata": {},
   "source": [
    "In summary, demonstration of the end-to-end process of building a text similarity-based recommendation system. \n",
    "\n",
    "Dataset Loading: The dataset is loaded and preprocessed to extract relevant columns, such as the 'id' and 'description' of each CCSS standard.\n",
    "Data Preprocessing: We convert the descriptions into TF-IDF vectors, which represent the importance of words in the context of the entire dataset.\n",
    "Model Building: A Nearest Neighbors model is trained on the TF-IDF matrix, enabling it to identify similar standards based on text similarity.\n",
    "Making Predictions: Given an input text, the model finds and returns the CCSS standards with descriptions most similar to the input.\n",
    "The system allows users to input text and receive the closest matching CCSS standards, demonstrating an effective use of NLP and similarity metrics for educational standard recommendation. Future enhancements could involve expanding the dataset, refining the model, or integrating additional features to improve recommendation accuracy."
   ]
  }
 ],
 "metadata": {
  "kernelspec": {
   "display_name": "Python 3 (ipykernel)",
   "language": "python",
   "name": "python3"
  },
  "language_info": {
   "codemirror_mode": {
    "name": "ipython",
    "version": 3
   },
   "file_extension": ".py",
   "mimetype": "text/x-python",
   "name": "python",
   "nbconvert_exporter": "python",
   "pygments_lexer": "ipython3",
   "version": "3.11.4"
  }
 },
 "nbformat": 4,
 "nbformat_minor": 5
}
